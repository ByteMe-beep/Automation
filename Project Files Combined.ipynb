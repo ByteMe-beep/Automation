{
 "cells": [
  {
   "cell_type": "code",
   "execution_count": 105,
   "metadata": {},
   "outputs": [],
   "source": [
    "import numpy as np\n",
    "import pandas as pd\n",
    "import os\n",
    "import pickle\n",
    "os.chdir(r'C:\\Users\\----\\Desktop\\Tapsetary')"
   ]
  },
  {
   "cell_type": "code",
   "execution_count": 7,
   "metadata": {},
   "outputs": [
    {
     "data": {
      "text/plain": [
       "['Coach - Asia payments for leases that end after 2026.xlsx',\n",
       " 'Coach - Asia payments for leases that end before 2026.xlsx',\n",
       " 'Coach - NA payments for leases that end after 2024.xlsx',\n",
       " 'Coach - NA payments for leases that end before 2021.xlsx',\n",
       " 'Coach - NA payments for leases that end between 2021-2022.xlsx',\n",
       " 'Coach - NA payments for leases that end between 2023-2024.xlsx',\n",
       " 'Coach - Remaining International payments.xlsx',\n",
       " 'Coach Europe - All payments.xlsx',\n",
       " 'Kate Spade - International payments.xlsx',\n",
       " 'Kate Spade - NA payments for leases that end after 2027.xlsx',\n",
       " 'Kate Spade - NA payments for leases that end before 2025.xlsx',\n",
       " 'Kate Spade - NA payments for leases that end between 2025-2027.xlsx',\n",
       " 'Stuart Weitzman - All payments.xlsx',\n",
       " 'Tapestry_list of Batch 2 leases.xlsx']"
      ]
     },
     "execution_count": 7,
     "metadata": {},
     "output_type": "execute_result"
    }
   ],
   "source": [
    "file_list = os.listdir();file_list"
   ]
  },
  {
   "cell_type": "code",
   "execution_count": 11,
   "metadata": {},
   "outputs": [
    {
     "data": {
      "text/html": [
       "<div>\n",
       "<style scoped>\n",
       "    .dataframe tbody tr th:only-of-type {\n",
       "        vertical-align: middle;\n",
       "    }\n",
       "\n",
       "    .dataframe tbody tr th {\n",
       "        vertical-align: top;\n",
       "    }\n",
       "\n",
       "    .dataframe thead th {\n",
       "        text-align: right;\n",
       "    }\n",
       "</style>\n",
       "<table border=\"1\" class=\"dataframe\">\n",
       "  <thead>\n",
       "    <tr style=\"text-align: right;\">\n",
       "      <th></th>\n",
       "      <th>Unnamed: 0</th>\n",
       "      <th>EY ID</th>\n",
       "      <th>Door #</th>\n",
       "      <th>Brand</th>\n",
       "      <th>Address</th>\n",
       "      <th>City</th>\n",
       "      <th>State</th>\n",
       "      <th>Country</th>\n",
       "    </tr>\n",
       "  </thead>\n",
       "  <tbody>\n",
       "    <tr>\n",
       "      <th>0</th>\n",
       "      <td>NaN</td>\n",
       "      <td>1</td>\n",
       "      <td>AU235</td>\n",
       "      <td>Coach</td>\n",
       "      <td>260 Collins St</td>\n",
       "      <td>Melbourne</td>\n",
       "      <td>Victoria</td>\n",
       "      <td>AUS</td>\n",
       "    </tr>\n",
       "    <tr>\n",
       "      <th>1</th>\n",
       "      <td>NaN</td>\n",
       "      <td>2</td>\n",
       "      <td>A164</td>\n",
       "      <td>Coach</td>\n",
       "      <td>435 Orchard Road</td>\n",
       "      <td>Singapore</td>\n",
       "      <td>NAV</td>\n",
       "      <td>SGP</td>\n",
       "    </tr>\n",
       "    <tr>\n",
       "      <th>2</th>\n",
       "      <td>NaN</td>\n",
       "      <td>3</td>\n",
       "      <td>A130</td>\n",
       "      <td>Coach</td>\n",
       "      <td>Level 2 &amp; 3, Pavilion Kuala Lumpur Shopping ma...</td>\n",
       "      <td>Kuala Lumpur</td>\n",
       "      <td>NAV</td>\n",
       "      <td>MYS</td>\n",
       "    </tr>\n",
       "    <tr>\n",
       "      <th>3</th>\n",
       "      <td>NaN</td>\n",
       "      <td>4</td>\n",
       "      <td>A338</td>\n",
       "      <td>Coach</td>\n",
       "      <td>Piazza della Repubblica</td>\n",
       "      <td>Florence</td>\n",
       "      <td>NAV</td>\n",
       "      <td>ITA</td>\n",
       "    </tr>\n",
       "    <tr>\n",
       "      <th>4</th>\n",
       "      <td>NaN</td>\n",
       "      <td>5</td>\n",
       "      <td>A408</td>\n",
       "      <td>Coach</td>\n",
       "      <td>10 Chaoyang N Rd</td>\n",
       "      <td>Beijing</td>\n",
       "      <td>NAV</td>\n",
       "      <td>CHN</td>\n",
       "    </tr>\n",
       "  </tbody>\n",
       "</table>\n",
       "</div>"
      ],
      "text/plain": [
       "   Unnamed: 0  EY ID Door #  Brand  \\\n",
       "0         NaN      1  AU235  Coach   \n",
       "1         NaN      2   A164  Coach   \n",
       "2         NaN      3   A130  Coach   \n",
       "3         NaN      4   A338  Coach   \n",
       "4         NaN      5   A408  Coach   \n",
       "\n",
       "                                             Address          City     State  \\\n",
       "0                                     260 Collins St     Melbourne  Victoria   \n",
       "1                                   435 Orchard Road     Singapore       NAV   \n",
       "2  Level 2 & 3, Pavilion Kuala Lumpur Shopping ma...  Kuala Lumpur       NAV   \n",
       "3                            Piazza della Repubblica      Florence       NAV   \n",
       "4                                   10 Chaoyang N Rd       Beijing       NAV   \n",
       "\n",
       "  Country  \n",
       "0     AUS  \n",
       "1     SGP  \n",
       "2     MYS  \n",
       "3     ITA  \n",
       "4     CHN  "
      ]
     },
     "execution_count": 11,
     "metadata": {},
     "output_type": "execute_result"
    }
   ],
   "source": [
    "leases_id = pd.read_excel(os.path.join(os.getcwd(),file_list[-1]),header=1);leases_id.head()"
   ]
  },
  {
   "cell_type": "code",
   "execution_count": 56,
   "metadata": {},
   "outputs": [],
   "source": [
    "door_id = leases_id['Door #'];len(door_id);#door_id"
   ]
  },
  {
   "cell_type": "code",
   "execution_count": 17,
   "metadata": {},
   "outputs": [
    {
     "data": {
      "text/html": [
       "<div>\n",
       "<style scoped>\n",
       "    .dataframe tbody tr th:only-of-type {\n",
       "        vertical-align: middle;\n",
       "    }\n",
       "\n",
       "    .dataframe tbody tr th {\n",
       "        vertical-align: top;\n",
       "    }\n",
       "\n",
       "    .dataframe thead th {\n",
       "        text-align: right;\n",
       "    }\n",
       "</style>\n",
       "<table border=\"1\" class=\"dataframe\">\n",
       "  <thead>\n",
       "    <tr style=\"text-align: right;\">\n",
       "      <th></th>\n",
       "      <th>S4 Site #</th>\n",
       "      <th>Store #</th>\n",
       "      <th>Name</th>\n",
       "      <th>Primary Use</th>\n",
       "      <th>Business Unit</th>\n",
       "      <th>Currency</th>\n",
       "      <th>Lease Classification</th>\n",
       "      <th>Process Type</th>\n",
       "      <th>Accounting Type</th>\n",
       "      <th>Payment Post Type</th>\n",
       "      <th>...</th>\n",
       "      <th>Accounting Start Date</th>\n",
       "      <th>Accounting End Date</th>\n",
       "      <th>Lease Term</th>\n",
       "      <th>Initial Liability Carryover Balance</th>\n",
       "      <th>Unnamed: 32</th>\n",
       "      <th>Incremental Borrowing Rate</th>\n",
       "      <th>Unnamed: 34</th>\n",
       "      <th>Option ID</th>\n",
       "      <th>Renewal Expiration Date</th>\n",
       "      <th>Geography Lookup</th>\n",
       "    </tr>\n",
       "  </thead>\n",
       "  <tbody>\n",
       "    <tr>\n",
       "      <th>0</th>\n",
       "      <td>Asia DC</td>\n",
       "      <td>DHL</td>\n",
       "      <td>DHL SC ADC</td>\n",
       "      <td>Distribution</td>\n",
       "      <td>Asia - Coach</td>\n",
       "      <td>Chinese Yuan</td>\n",
       "      <td>Operating</td>\n",
       "      <td>Process Payments</td>\n",
       "      <td>Accounts Payable (AP)</td>\n",
       "      <td>Pre-payment</td>\n",
       "      <td>...</td>\n",
       "      <td>2019-07-01</td>\n",
       "      <td>2021-09-30</td>\n",
       "      <td>2 Years 3 Months</td>\n",
       "      <td>0.0</td>\n",
       "      <td>Chinese Yuan</td>\n",
       "      <td>3.57</td>\n",
       "      <td>percent</td>\n",
       "      <td>NaN</td>\n",
       "      <td>NaT</td>\n",
       "      <td>\\Geography\\Asia\\China\\Shanghai</td>\n",
       "    </tr>\n",
       "    <tr>\n",
       "      <th>1</th>\n",
       "      <td>Asia DC</td>\n",
       "      <td>DHL</td>\n",
       "      <td>DHL SC ADC</td>\n",
       "      <td>Distribution</td>\n",
       "      <td>Asia - Coach</td>\n",
       "      <td>Chinese Yuan</td>\n",
       "      <td>Operating</td>\n",
       "      <td>Process Payments</td>\n",
       "      <td>Accounts Payable (AP)</td>\n",
       "      <td>Pre-payment</td>\n",
       "      <td>...</td>\n",
       "      <td>2019-07-01</td>\n",
       "      <td>2021-09-30</td>\n",
       "      <td>2 Years 3 Months</td>\n",
       "      <td>0.0</td>\n",
       "      <td>Chinese Yuan</td>\n",
       "      <td>3.57</td>\n",
       "      <td>percent</td>\n",
       "      <td>NaN</td>\n",
       "      <td>NaT</td>\n",
       "      <td>\\Geography\\Asia\\China\\Shanghai</td>\n",
       "    </tr>\n",
       "    <tr>\n",
       "      <th>2</th>\n",
       "      <td>Asia DC</td>\n",
       "      <td>DHL</td>\n",
       "      <td>DHL SC ADC</td>\n",
       "      <td>Distribution</td>\n",
       "      <td>Asia - Coach</td>\n",
       "      <td>Chinese Yuan</td>\n",
       "      <td>Operating</td>\n",
       "      <td>Process Payments</td>\n",
       "      <td>Accounts Payable (AP)</td>\n",
       "      <td>Pre-payment</td>\n",
       "      <td>...</td>\n",
       "      <td>2019-07-01</td>\n",
       "      <td>2021-09-30</td>\n",
       "      <td>2 Years 3 Months</td>\n",
       "      <td>0.0</td>\n",
       "      <td>Chinese Yuan</td>\n",
       "      <td>3.57</td>\n",
       "      <td>percent</td>\n",
       "      <td>NaN</td>\n",
       "      <td>NaT</td>\n",
       "      <td>\\Geography\\Asia\\China\\Shanghai</td>\n",
       "    </tr>\n",
       "    <tr>\n",
       "      <th>3</th>\n",
       "      <td>Asia DC</td>\n",
       "      <td>DHL</td>\n",
       "      <td>DHL SC ADC</td>\n",
       "      <td>Distribution</td>\n",
       "      <td>Asia - Coach</td>\n",
       "      <td>Chinese Yuan</td>\n",
       "      <td>Operating</td>\n",
       "      <td>Process Payments</td>\n",
       "      <td>Accounts Payable (AP)</td>\n",
       "      <td>Pre-payment</td>\n",
       "      <td>...</td>\n",
       "      <td>2019-07-01</td>\n",
       "      <td>2021-09-30</td>\n",
       "      <td>2 Years 3 Months</td>\n",
       "      <td>0.0</td>\n",
       "      <td>Chinese Yuan</td>\n",
       "      <td>3.57</td>\n",
       "      <td>percent</td>\n",
       "      <td>NaN</td>\n",
       "      <td>NaT</td>\n",
       "      <td>\\Geography\\Asia\\China\\Shanghai</td>\n",
       "    </tr>\n",
       "    <tr>\n",
       "      <th>4</th>\n",
       "      <td>Asia DC</td>\n",
       "      <td>DHL</td>\n",
       "      <td>DHL SC ADC</td>\n",
       "      <td>Distribution</td>\n",
       "      <td>Asia - Coach</td>\n",
       "      <td>Chinese Yuan</td>\n",
       "      <td>Operating</td>\n",
       "      <td>Process Payments</td>\n",
       "      <td>Accounts Payable (AP)</td>\n",
       "      <td>Pre-payment</td>\n",
       "      <td>...</td>\n",
       "      <td>2019-07-01</td>\n",
       "      <td>2021-09-30</td>\n",
       "      <td>2 Years 3 Months</td>\n",
       "      <td>0.0</td>\n",
       "      <td>Chinese Yuan</td>\n",
       "      <td>3.57</td>\n",
       "      <td>percent</td>\n",
       "      <td>NaN</td>\n",
       "      <td>NaT</td>\n",
       "      <td>\\Geography\\Asia\\China\\Shanghai</td>\n",
       "    </tr>\n",
       "  </tbody>\n",
       "</table>\n",
       "<p>5 rows × 38 columns</p>\n",
       "</div>"
      ],
      "text/plain": [
       "  S4 Site # Store #        Name   Primary Use Business Unit      Currency  \\\n",
       "0   Asia DC     DHL  DHL SC ADC  Distribution  Asia - Coach  Chinese Yuan   \n",
       "1   Asia DC     DHL  DHL SC ADC  Distribution  Asia - Coach  Chinese Yuan   \n",
       "2   Asia DC     DHL  DHL SC ADC  Distribution  Asia - Coach  Chinese Yuan   \n",
       "3   Asia DC     DHL  DHL SC ADC  Distribution  Asia - Coach  Chinese Yuan   \n",
       "4   Asia DC     DHL  DHL SC ADC  Distribution  Asia - Coach  Chinese Yuan   \n",
       "\n",
       "  Lease Classification      Process Type        Accounting Type  \\\n",
       "0            Operating  Process Payments  Accounts Payable (AP)   \n",
       "1            Operating  Process Payments  Accounts Payable (AP)   \n",
       "2            Operating  Process Payments  Accounts Payable (AP)   \n",
       "3            Operating  Process Payments  Accounts Payable (AP)   \n",
       "4            Operating  Process Payments  Accounts Payable (AP)   \n",
       "\n",
       "  Payment Post Type  ... Accounting Start Date Accounting End Date  \\\n",
       "0       Pre-payment  ...            2019-07-01          2021-09-30   \n",
       "1       Pre-payment  ...            2019-07-01          2021-09-30   \n",
       "2       Pre-payment  ...            2019-07-01          2021-09-30   \n",
       "3       Pre-payment  ...            2019-07-01          2021-09-30   \n",
       "4       Pre-payment  ...            2019-07-01          2021-09-30   \n",
       "\n",
       "          Lease Term Initial Liability Carryover Balance   Unnamed: 32  \\\n",
       "0  2 Years 3 Months                                  0.0  Chinese Yuan   \n",
       "1  2 Years 3 Months                                  0.0  Chinese Yuan   \n",
       "2  2 Years 3 Months                                  0.0  Chinese Yuan   \n",
       "3  2 Years 3 Months                                  0.0  Chinese Yuan   \n",
       "4  2 Years 3 Months                                  0.0  Chinese Yuan   \n",
       "\n",
       "   Incremental Borrowing Rate Unnamed: 34  Option ID  Renewal Expiration Date  \\\n",
       "0                        3.57     percent        NaN                      NaT   \n",
       "1                        3.57     percent        NaN                      NaT   \n",
       "2                        3.57     percent        NaN                      NaT   \n",
       "3                        3.57     percent        NaN                      NaT   \n",
       "4                        3.57     percent        NaN                      NaT   \n",
       "\n",
       "                 Geography Lookup  \n",
       "0  \\Geography\\Asia\\China\\Shanghai  \n",
       "1  \\Geography\\Asia\\China\\Shanghai  \n",
       "2  \\Geography\\Asia\\China\\Shanghai  \n",
       "3  \\Geography\\Asia\\China\\Shanghai  \n",
       "4  \\Geography\\Asia\\China\\Shanghai  \n",
       "\n",
       "[5 rows x 38 columns]"
      ]
     },
     "execution_count": 17,
     "metadata": {},
     "output_type": "execute_result"
    }
   ],
   "source": [
    "file = file_list[1]\n",
    "temp_df = pd.read_excel(os.path.join(os.getcwd(),file),skiprows=4); temp_df.head()"
   ]
  },
  {
   "cell_type": "code",
   "execution_count": 32,
   "metadata": {},
   "outputs": [],
   "source": [
    "tempIds = temp_df[temp_df.columns[0]].unique()\n",
    "idsExtract = set(tempIds).intersection(door_id)"
   ]
  },
  {
   "cell_type": "code",
   "execution_count": 55,
   "metadata": {},
   "outputs": [],
   "source": [
    "#temp_df['Start Date']\n",
    "#temp_df['Expected Expense']\n",
    "#temp_df['S4 Site #']"
   ]
  },
  {
   "cell_type": "code",
   "execution_count": 82,
   "metadata": {},
   "outputs": [
    {
     "name": "stdout",
     "output_type": "stream",
     "text": [
      "reading file  Coach - Asia payments for leases that end after 2026.xlsx\n",
      "completed file Coach - Asia payments for leases that end after 2026.xlsx\n",
      "reading file  Coach - Asia payments for leases that end before 2026.xlsx\n",
      "completed file Coach - Asia payments for leases that end before 2026.xlsx\n",
      "reading file  Coach - NA payments for leases that end after 2024.xlsx\n",
      "completed file Coach - NA payments for leases that end after 2024.xlsx\n",
      "reading file  Coach - NA payments for leases that end before 2021.xlsx\n",
      "completed file Coach - NA payments for leases that end before 2021.xlsx\n",
      "reading file  Coach - NA payments for leases that end between 2021-2022.xlsx\n",
      "completed file Coach - NA payments for leases that end between 2021-2022.xlsx\n",
      "reading file  Coach - NA payments for leases that end between 2023-2024.xlsx\n",
      "completed file Coach - NA payments for leases that end between 2023-2024.xlsx\n",
      "reading file  Coach - Remaining International payments.xlsx\n",
      "completed file Coach - Remaining International payments.xlsx\n",
      "reading file  Coach Europe - All payments.xlsx\n",
      "completed file Coach Europe - All payments.xlsx\n",
      "reading file  Kate Spade - International payments.xlsx\n",
      "completed file Kate Spade - International payments.xlsx\n",
      "reading file  Kate Spade - NA payments for leases that end after 2027.xlsx\n",
      "completed file Kate Spade - NA payments for leases that end after 2027.xlsx\n",
      "reading file  Kate Spade - NA payments for leases that end before 2025.xlsx\n",
      "completed file Kate Spade - NA payments for leases that end before 2025.xlsx\n",
      "reading file  Kate Spade - NA payments for leases that end between 2025-2027.xlsx\n",
      "completed file Kate Spade - NA payments for leases that end between 2025-2027.xlsx\n",
      "reading file  Stuart Weitzman - All payments.xlsx\n",
      "completed file Stuart Weitzman - All payments.xlsx\n"
     ]
    }
   ],
   "source": [
    "searchText = 'Common Area Maintenance Prepaid - Fixed'\n",
    "df = pd.DataFrame()\n",
    "for file in file_list[:-1]:\n",
    "    try:\n",
    "        print('reading file ',file)\n",
    "        temp_df = pd.read_excel(os.path.join(os.getcwd(),file),skiprows=4)\n",
    "        temp_df = temp_df[temp_df['Payment Type']==searchText][['S4 Site #','Start Date','Expected Expense','Currency','Business Unit']]\n",
    "        df = pd.concat([df,temp_df])\n",
    "        print('completed file',file)\n",
    "    except:\n",
    "        pass"
   ]
  },
  {
   "cell_type": "code",
   "execution_count": 125,
   "metadata": {},
   "outputs": [],
   "source": [
    "df.to_csv('combined.csv')"
   ]
  },
  {
   "cell_type": "code",
   "execution_count": 89,
   "metadata": {},
   "outputs": [],
   "source": [
    "## trying an approach to store data frames in a list of dataframes\n",
    "dfList = []"
   ]
  },
  {
   "cell_type": "code",
   "execution_count": 90,
   "metadata": {},
   "outputs": [],
   "source": [
    "dfList.append(df)"
   ]
  },
  {
   "cell_type": "code",
   "execution_count": 96,
   "metadata": {},
   "outputs": [],
   "source": [
    "fileDict = {'file_{}'.format(i+1):file for i,file in enumerate(file_list[:-1]) }\n",
    "# creating a key of all file list"
   ]
  },
  {
   "cell_type": "code",
   "execution_count": 101,
   "metadata": {},
   "outputs": [],
   "source": [
    "dfDict = {'file_{}'.format(i+1):pd.read_excel(os.path.join(os.getcwd(),file),skiprows=4) for i,file in enumerate(file_list[:-1])}"
   ]
  },
  {
   "cell_type": "code",
   "execution_count": 107,
   "metadata": {},
   "outputs": [],
   "source": [
    "pickle.dump(dfDict, open(\"frames_dict.p\", \"wb\")) \n",
    "# saved the data frames as a pickle"
   ]
  },
  {
   "cell_type": "code",
   "execution_count": 120,
   "metadata": {},
   "outputs": [
    {
     "name": "stdout",
     "output_type": "stream",
     "text": [
      "0  :  True\n",
      "1  :  True\n",
      "2  :  True\n",
      "3  :  True\n",
      "4  :  True\n",
      "5  :  True\n",
      "6  :  True\n",
      "7  :  True\n",
      "8  :  True\n",
      "9  :  True\n",
      "10  :  True\n",
      "11  :  True\n",
      "12  :  True\n"
     ]
    }
   ],
   "source": [
    "for ind,key in enumerate(dfDict.keys()):\n",
    "        print(ind,\" : \",np.all(dfDict[key].columns==dfDict['file_1'].columns))"
   ]
  },
  {
   "cell_type": "code",
   "execution_count": 121,
   "metadata": {},
   "outputs": [],
   "source": [
    "dfCombined = pd.DataFrame()\n",
    "for key in dfDict.keys():\n",
    "    dfCombined = pd.concat([dfCombined,dfDict[key]],axis=0)"
   ]
  },
  {
   "cell_type": "code",
   "execution_count": 129,
   "metadata": {},
   "outputs": [],
   "source": [
    "dfCombined.to_csv('ALL_FILES_COMBINED.csv')"
   ]
  },
  {
   "cell_type": "code",
   "execution_count": 145,
   "metadata": {},
   "outputs": [],
   "source": [
    "List = list(dfCombined['Payment Type'].dropna().unique())"
   ]
  },
  {
   "cell_type": "code",
   "execution_count": null,
   "metadata": {},
   "outputs": [],
   "source": []
  },
  {
   "cell_type": "code",
   "execution_count": 147,
   "metadata": {},
   "outputs": [],
   "source": [
    "paymentFilter = []\n",
    "for l in List:\n",
    "    if 'Fixed' in l:\n",
    "        paymentFilter.append(l)"
   ]
  },
  {
   "cell_type": "code",
   "execution_count": 164,
   "metadata": {},
   "outputs": [
    {
     "data": {
      "text/plain": [
       "['Admin Expense Prepaid - Fixed',\n",
       " 'Common Area Maintenance Prepaid - Fixed',\n",
       " 'Electric Prepaid - Fixed',\n",
       " 'Fire Detection Prepaid - Fixed',\n",
       " 'HVAC Equipment Prepaid - Fixed',\n",
       " 'HVAC Prepaid - Fixed',\n",
       " 'Insurance Prepaid - Fixed',\n",
       " 'Lease Required Advertising Prepaid - Fixed',\n",
       " 'Management Fee/Service Charges Prepaid - Fixed',\n",
       " 'Marketing Prepaid - Fixed',\n",
       " 'Media Fund Prepaid - Fixed',\n",
       " 'Merchant Association Prepaid - Fixed',\n",
       " 'Operating Expenses Prepaid - Fixed',\n",
       " 'Promotional Fee Prepaid - Fixed',\n",
       " 'Promotional Fund Prepaid - Fixed',\n",
       " 'Real Estate Taxes Prepaid - Fixed',\n",
       " 'Security Prepaid - Fixed',\n",
       " 'Signage Electric Prepaid - Fixed',\n",
       " 'Sprinkler Prepaid - Fixed',\n",
       " 'Steam Prepaid - Fixed',\n",
       " 'Storage Prepaid - Fixed',\n",
       " 'Storage Rent Expense - Fixed',\n",
       " 'Trash Removal Prepaid - Fixed',\n",
       " 'Utilities Prepaid - Fixed',\n",
       " 'Water Prepaid - Fixed']"
      ]
     },
     "execution_count": 164,
     "metadata": {},
     "output_type": "execute_result"
    }
   ],
   "source": [
    "sorted(paymentFilter)"
   ]
  },
  {
   "cell_type": "code",
   "execution_count": 165,
   "metadata": {},
   "outputs": [
    {
     "data": {
      "text/plain": [
       "25"
      ]
     },
     "execution_count": 165,
     "metadata": {},
     "output_type": "execute_result"
    }
   ],
   "source": [
    "len(paymentFilter)"
   ]
  },
  {
   "cell_type": "code",
   "execution_count": 158,
   "metadata": {},
   "outputs": [],
   "source": [
    "dfCombined.set_index('Payment Type',inplace=True)"
   ]
  },
  {
   "cell_type": "code",
   "execution_count": 163,
   "metadata": {},
   "outputs": [],
   "source": [
    "dfCombined.loc[paymentFilter][['S4 Site #','Start Date','Expected Expense','Currency','Business Unit']].to_csv('combined_version2.csv')"
   ]
  },
  {
   "cell_type": "code",
   "execution_count": 167,
   "metadata": {},
   "outputs": [
    {
     "data": {
      "text/html": [
       "<div>\n",
       "<style scoped>\n",
       "    .dataframe tbody tr th:only-of-type {\n",
       "        vertical-align: middle;\n",
       "    }\n",
       "\n",
       "    .dataframe tbody tr th {\n",
       "        vertical-align: top;\n",
       "    }\n",
       "\n",
       "    .dataframe thead th {\n",
       "        text-align: right;\n",
       "    }\n",
       "</style>\n",
       "<table border=\"1\" class=\"dataframe\">\n",
       "  <thead>\n",
       "    <tr style=\"text-align: right;\">\n",
       "      <th></th>\n",
       "      <th>S4 Site #</th>\n",
       "      <th>Start Date</th>\n",
       "      <th>Expected Expense</th>\n",
       "      <th>Currency</th>\n",
       "      <th>Business Unit</th>\n",
       "    </tr>\n",
       "    <tr>\n",
       "      <th>Payment Type</th>\n",
       "      <th></th>\n",
       "      <th></th>\n",
       "      <th></th>\n",
       "      <th></th>\n",
       "      <th></th>\n",
       "    </tr>\n",
       "  </thead>\n",
       "  <tbody>\n",
       "    <tr>\n",
       "      <th>Management Fee/Service Charges Prepaid - Fixed</th>\n",
       "      <td>A719</td>\n",
       "      <td>2022-12-01</td>\n",
       "      <td>10169.812258</td>\n",
       "      <td>Chinese Yuan</td>\n",
       "      <td>Asia - Coach</td>\n",
       "    </tr>\n",
       "    <tr>\n",
       "      <th>Management Fee/Service Charges Prepaid - Fixed</th>\n",
       "      <td>A719</td>\n",
       "      <td>2019-08-01</td>\n",
       "      <td>22518.870000</td>\n",
       "      <td>Chinese Yuan</td>\n",
       "      <td>Asia - Coach</td>\n",
       "    </tr>\n",
       "    <tr>\n",
       "      <th>Management Fee/Service Charges Prepaid - Fixed</th>\n",
       "      <td>A719</td>\n",
       "      <td>2019-07-01</td>\n",
       "      <td>22518.870000</td>\n",
       "      <td>Chinese Yuan</td>\n",
       "      <td>Asia - Coach</td>\n",
       "    </tr>\n",
       "    <tr>\n",
       "      <th>Management Fee/Service Charges Prepaid - Fixed</th>\n",
       "      <td>A719</td>\n",
       "      <td>2019-09-01</td>\n",
       "      <td>22518.870000</td>\n",
       "      <td>Chinese Yuan</td>\n",
       "      <td>Asia - Coach</td>\n",
       "    </tr>\n",
       "    <tr>\n",
       "      <th>Management Fee/Service Charges Prepaid - Fixed</th>\n",
       "      <td>A719</td>\n",
       "      <td>2019-10-01</td>\n",
       "      <td>22518.870000</td>\n",
       "      <td>Chinese Yuan</td>\n",
       "      <td>Asia - Coach</td>\n",
       "    </tr>\n",
       "  </tbody>\n",
       "</table>\n",
       "</div>"
      ],
      "text/plain": [
       "                                               S4 Site # Start Date  \\\n",
       "Payment Type                                                          \n",
       "Management Fee/Service Charges Prepaid - Fixed      A719 2022-12-01   \n",
       "Management Fee/Service Charges Prepaid - Fixed      A719 2019-08-01   \n",
       "Management Fee/Service Charges Prepaid - Fixed      A719 2019-07-01   \n",
       "Management Fee/Service Charges Prepaid - Fixed      A719 2019-09-01   \n",
       "Management Fee/Service Charges Prepaid - Fixed      A719 2019-10-01   \n",
       "\n",
       "                                                Expected Expense  \\\n",
       "Payment Type                                                       \n",
       "Management Fee/Service Charges Prepaid - Fixed      10169.812258   \n",
       "Management Fee/Service Charges Prepaid - Fixed      22518.870000   \n",
       "Management Fee/Service Charges Prepaid - Fixed      22518.870000   \n",
       "Management Fee/Service Charges Prepaid - Fixed      22518.870000   \n",
       "Management Fee/Service Charges Prepaid - Fixed      22518.870000   \n",
       "\n",
       "                                                    Currency Business Unit  \n",
       "Payment Type                                                                \n",
       "Management Fee/Service Charges Prepaid - Fixed  Chinese Yuan  Asia - Coach  \n",
       "Management Fee/Service Charges Prepaid - Fixed  Chinese Yuan  Asia - Coach  \n",
       "Management Fee/Service Charges Prepaid - Fixed  Chinese Yuan  Asia - Coach  \n",
       "Management Fee/Service Charges Prepaid - Fixed  Chinese Yuan  Asia - Coach  \n",
       "Management Fee/Service Charges Prepaid - Fixed  Chinese Yuan  Asia - Coach  "
      ]
     },
     "execution_count": 167,
     "metadata": {},
     "output_type": "execute_result"
    }
   ],
   "source": [
    "dfCombined.loc[paymentFilter][['S4 Site #','Start Date','Expected Expense','Currency','Business Unit']].head()"
   ]
  },
  {
   "cell_type": "code",
   "execution_count": 170,
   "metadata": {},
   "outputs": [
    {
     "name": "stdout",
     "output_type": "stream",
     "text": [
      "Base Rent Expense\n",
      "Base Rent Prepaid\n"
     ]
    }
   ],
   "source": [
    "# saving a cf file for base rent\n",
    "baseRentFilter = []\n",
    "for l in List:\n",
    "    if 'Base' in l or 'base' in l:\n",
    "        baseRentFilter.append(l)\n",
    "        print(l)"
   ]
  },
  {
   "cell_type": "code",
   "execution_count": 174,
   "metadata": {},
   "outputs": [],
   "source": [
    "dfCombined.loc[baseRentFilter][['S4 Site #','Start Date','Expected Expense','Currency','Business Unit']].to_csv('base_rent.csv')\n"
   ]
  },
  {
   "cell_type": "code",
   "execution_count": null,
   "metadata": {},
   "outputs": [],
   "source": []
  }
 ],
 "metadata": {
  "kernelspec": {
   "display_name": "Python 3",
   "language": "python",
   "name": "python3"
  },
  "language_info": {
   "codemirror_mode": {
    "name": "ipython",
    "version": 3
   },
   "file_extension": ".py",
   "mimetype": "text/x-python",
   "name": "python",
   "nbconvert_exporter": "python",
   "pygments_lexer": "ipython3",
   "version": "3.7.1"
  }
 },
 "nbformat": 4,
 "nbformat_minor": 2
}
